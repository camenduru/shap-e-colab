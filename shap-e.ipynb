{
    "cells": [
      {
       "cell_type": "markdown",
       "metadata": {
        "id": "view-in-github"
       },
       "source": [
        "[![Open In Colab](https://colab.research.google.com/assets/colab-badge.svg)](https://colab.research.google.com/github/camenduru/shap-e-colab/blob/main/shap-e.ipynb)"
       ]
      },
      {
        "cell_type": "code",
        "source": [
          "%cd /content\n",
          "!git clone -b dev https://github.com/camenduru/shap-e-hf\n",
          "%cd /content/shap-e-hf\n",
          "!git clone https://huggingface.co/camenduru/shap_e_model_cache\n",
          "!pip install -r requirements.txt\n",
          "!python app.py"
        ],
        "metadata": {
          "id": "OqTcARgEl-Vo"
        },
        "execution_count": null,
        "outputs": []
      }
    ],
    "metadata": {
      "language_info": {
        "name": "python"
      },
      "orig_nbformat": 4,
      "colab": {
        "provenance": [],
        "gpuType": "T4"
      },
      "accelerator": "GPU",
      "gpuClass": "standard",
      "kernelspec": {
        "name": "python3",
        "display_name": "Python 3"
      }
    },
    "nbformat": 4,
    "nbformat_minor": 0
}